{
 "cells": [
  {
   "cell_type": "code",
   "execution_count": 1,
   "id": "ec35d54a-42eb-45b5-8532-19c5c7396cfc",
   "metadata": {},
   "outputs": [],
   "source": [
    "import pandas as pd\n",
    "import numpy as np\n",
    "\n",
    "# Recreate the employees data\n",
    "employees_data = {\n",
    "    'id': [1, 2, 3, 4, 5, 6, 7, 8, 9, 10],\n",
    "    'first_name': ['Ana', 'Ben', 'Cara', 'Dave', 'Ella', 'Frank', 'Grace', 'Henry', 'Iris', 'Jack'],\n",
    "    'last_name': ['Gonzalez', 'Nguyen', 'Ivanova', 'Okafor', 'Schmidt', 'Chen', 'Williams', 'Johnson', 'Patel', 'Brown'],\n",
    "    'dept': ['Sales', 'Marketing', 'Tech', 'Tech', 'HR', None, None, 'Finance', 'Tech', 'Sales'],\n",
    "    'salary': [68000, 72000, 98000, 105000, 60000, 55000, 62000, 75000, 88000, None],\n",
    "    'manager_id': [None, 1, 4, 4, 1, 1, 1, 10, 4, None],\n",
    "    'hire_date': ['2015-01-10', '2018-06-22', '2022-03-15', '2017-11-05', '2019-09-01', \n",
    "                  '2020-12-12', '2023-04-18', '2016-07-03', '2023-01-09', '2021-05-20']\n",
    "}\n",
    "\n",
    "employees = pd.DataFrame(employees_data)\n",
    "\n",
    "departments = pd.DataFrame({\n",
    "    'dname': ['Tech', 'Sales', 'HR', 'Marketing', 'Legal', 'R&D'],\n",
    "    'loc': ['Building A', 'Building B', 'Building C', 'Building B', 'Building D', 'Building A'],\n",
    "    'budget': [500000, 300000, 150000, 250000, 200000, 450000]\n",
    "})"
   ]
  },
  {
   "cell_type": "code",
   "execution_count": 2,
   "id": "f9dcd776-0d48-47d6-b5a3-4fbeb224ba94",
   "metadata": {},
   "outputs": [
    {
     "ename": "SyntaxError",
     "evalue": "invalid syntax (1713819102.py, line 1)",
     "output_type": "error",
     "traceback": [
      "  \u001b[36mCell\u001b[39m\u001b[36m \u001b[39m\u001b[32mIn[2]\u001b[39m\u001b[32m, line 1\u001b[39m\n\u001b[31m    \u001b[39m\u001b[31mSELECT dept, salary\u001b[39m\n           ^\n\u001b[31mSyntaxError\u001b[39m\u001b[31m:\u001b[39m invalid syntax\n"
     ]
    }
   ],
   "source": [
    "SELECT dept, salary\n",
    "FROM (\n",
    "    SELECT dept, salary,\n",
    "           ROW_NUMBER() OVER (PARTITION BY dept ORDER BY salary DESC) as rn\n",
    "    FROM employees\n",
    "    WHERE salary IS NOT NULL\n",
    ") ranked\n",
    "WHERE rn = 2;"
   ]
  },
  {
   "cell_type": "code",
   "execution_count": 35,
   "id": "21b778e0-dab5-4b49-b71b-7490387eb5be",
   "metadata": {},
   "outputs": [
    {
     "data": {
      "text/plain": [
       "2    98000.0\n",
       "Name: salary, dtype: float64"
      ]
     },
     "execution_count": 35,
     "metadata": {},
     "output_type": "execute_result"
    }
   ],
   "source": [
    "rn = employees[['dept', 'salary']] # dataframe\n",
    "rn = rn[rn['salary'].notna()] # filtered dataframe\n",
    "rn = rn.sort_values(['dept', 'salary'], ascending=[True, False]).groupby('dept')['salary'] # grouped object after sorting\n",
    "rn.nth(1)"
   ]
  },
  {
   "cell_type": "code",
   "execution_count": 36,
   "id": "46a969cb-fe48-4af3-9ccb-5928acfa56da",
   "metadata": {},
   "outputs": [
    {
     "ename": "SyntaxError",
     "evalue": "invalid syntax (3245519767.py, line 1)",
     "output_type": "error",
     "traceback": [
      "  \u001b[36mCell\u001b[39m\u001b[36m \u001b[39m\u001b[32mIn[36]\u001b[39m\u001b[32m, line 1\u001b[39m\n\u001b[31m    \u001b[39m\u001b[31mSELECT e.first_name, e.last_name, e.salary, e.dept\u001b[39m\n           ^\n\u001b[31mSyntaxError\u001b[39m\u001b[31m:\u001b[39m invalid syntax\n"
     ]
    }
   ],
   "source": [
    "SELECT e.first_name, e.last_name, e.salary, e.dept\n",
    "FROM employees e\n",
    "JOIN (\n",
    "    SELECT dept, MAX(salary) * 0.9 as min_threshold\n",
    "    FROM employees\n",
    "    WHERE salary IS NOT NULL\n",
    "    GROUP BY dept\n",
    ") thresholds ON e.dept = thresholds.dept\n",
    "WHERE e.salary >= thresholds.min_threshold;"
   ]
  },
  {
   "cell_type": "code",
   "execution_count": 72,
   "id": "81e7b88b-71b4-420b-83de-9b37743d58af",
   "metadata": {},
   "outputs": [
    {
     "data": {
      "text/html": [
       "<div>\n",
       "<style scoped>\n",
       "    .dataframe tbody tr th:only-of-type {\n",
       "        vertical-align: middle;\n",
       "    }\n",
       "\n",
       "    .dataframe tbody tr th {\n",
       "        vertical-align: top;\n",
       "    }\n",
       "\n",
       "    .dataframe thead th {\n",
       "        text-align: right;\n",
       "    }\n",
       "</style>\n",
       "<table border=\"1\" class=\"dataframe\">\n",
       "  <thead>\n",
       "    <tr style=\"text-align: right;\">\n",
       "      <th></th>\n",
       "      <th>first_name</th>\n",
       "      <th>last_name</th>\n",
       "      <th>dept</th>\n",
       "      <th>salary_x</th>\n",
       "      <th>salary_y</th>\n",
       "    </tr>\n",
       "  </thead>\n",
       "  <tbody>\n",
       "    <tr>\n",
       "      <th>0</th>\n",
       "      <td>Ana</td>\n",
       "      <td>Gonzalez</td>\n",
       "      <td>Sales</td>\n",
       "      <td>68000.0</td>\n",
       "      <td>68000.0</td>\n",
       "    </tr>\n",
       "    <tr>\n",
       "      <th>1</th>\n",
       "      <td>Ben</td>\n",
       "      <td>Nguyen</td>\n",
       "      <td>Marketing</td>\n",
       "      <td>72000.0</td>\n",
       "      <td>72000.0</td>\n",
       "    </tr>\n",
       "    <tr>\n",
       "      <th>2</th>\n",
       "      <td>Cara</td>\n",
       "      <td>Ivanova</td>\n",
       "      <td>Tech</td>\n",
       "      <td>98000.0</td>\n",
       "      <td>105000.0</td>\n",
       "    </tr>\n",
       "    <tr>\n",
       "      <th>3</th>\n",
       "      <td>Dave</td>\n",
       "      <td>Okafor</td>\n",
       "      <td>Tech</td>\n",
       "      <td>105000.0</td>\n",
       "      <td>105000.0</td>\n",
       "    </tr>\n",
       "    <tr>\n",
       "      <th>4</th>\n",
       "      <td>Ella</td>\n",
       "      <td>Schmidt</td>\n",
       "      <td>HR</td>\n",
       "      <td>60000.0</td>\n",
       "      <td>60000.0</td>\n",
       "    </tr>\n",
       "    <tr>\n",
       "      <th>5</th>\n",
       "      <td>Henry</td>\n",
       "      <td>Johnson</td>\n",
       "      <td>Finance</td>\n",
       "      <td>75000.0</td>\n",
       "      <td>75000.0</td>\n",
       "    </tr>\n",
       "  </tbody>\n",
       "</table>\n",
       "</div>"
      ],
      "text/plain": [
       "  first_name last_name       dept  salary_x  salary_y\n",
       "0        Ana  Gonzalez      Sales   68000.0   68000.0\n",
       "1        Ben    Nguyen  Marketing   72000.0   72000.0\n",
       "2       Cara   Ivanova       Tech   98000.0  105000.0\n",
       "3       Dave    Okafor       Tech  105000.0  105000.0\n",
       "4       Ella   Schmidt         HR   60000.0   60000.0\n",
       "5      Henry   Johnson    Finance   75000.0   75000.0"
      ]
     },
     "execution_count": 72,
     "metadata": {},
     "output_type": "execute_result"
    }
   ],
   "source": [
    "df2 = employees[['first_name', 'last_name', 'dept', 'salary']] # select columns\n",
    "df2 = df2[df2['salary'].notna() & df2['dept'].notna()] # filter nulls\n",
    "df3 = df2.groupby('dept')['salary'].agg('max'); # group by dept and salary, calculate max.\n",
    "df2 = df2.merge(df3, on='dept')\n",
    "df2 = df2[df2['salary_x'] >= 0.9 * df2['salary_y']]\n",
    "df2"
   ]
  },
  {
   "cell_type": "code",
   "execution_count": 73,
   "id": "5442157b-2e5f-4d00-998d-ffb96771c912",
   "metadata": {},
   "outputs": [
    {
     "ename": "SyntaxError",
     "evalue": "invalid syntax (2366865318.py, line 1)",
     "output_type": "error",
     "traceback": [
      "  \u001b[36mCell\u001b[39m\u001b[36m \u001b[39m\u001b[32mIn[73]\u001b[39m\u001b[32m, line 1\u001b[39m\n\u001b[31m    \u001b[39m\u001b[31mSELECT DISTINCT e1.first_name, e1.last_name, e1.salary, e1.dept\u001b[39m\n           ^\n\u001b[31mSyntaxError\u001b[39m\u001b[31m:\u001b[39m invalid syntax\n"
     ]
    }
   ],
   "source": [
    "SELECT DISTINCT e1.first_name, e1.last_name, e1.salary, e1.dept\n",
    "FROM employees e1\n",
    "JOIN employees e2 ON e1.salary = e2.salary AND e1.dept != e2.dept\n",
    "WHERE e1.salary IS NOT NULL;"
   ]
  },
  {
   "cell_type": "code",
   "execution_count": 101,
   "id": "b55178fd-1e22-4a16-aa27-18f4ae96f1f2",
   "metadata": {},
   "outputs": [
    {
     "data": {
      "text/html": [
       "<div>\n",
       "<style scoped>\n",
       "    .dataframe tbody tr th:only-of-type {\n",
       "        vertical-align: middle;\n",
       "    }\n",
       "\n",
       "    .dataframe tbody tr th {\n",
       "        vertical-align: top;\n",
       "    }\n",
       "\n",
       "    .dataframe thead th {\n",
       "        text-align: right;\n",
       "    }\n",
       "</style>\n",
       "<table border=\"1\" class=\"dataframe\">\n",
       "  <thead>\n",
       "    <tr style=\"text-align: right;\">\n",
       "      <th></th>\n",
       "      <th>first_name_x</th>\n",
       "      <th>last_name_x</th>\n",
       "      <th>salary</th>\n",
       "      <th>dept_x</th>\n",
       "      <th>first_name_y</th>\n",
       "      <th>last_name_y</th>\n",
       "      <th>dept_y</th>\n",
       "    </tr>\n",
       "  </thead>\n",
       "  <tbody>\n",
       "  </tbody>\n",
       "</table>\n",
       "</div>"
      ],
      "text/plain": [
       "Empty DataFrame\n",
       "Columns: [first_name_x, last_name_x, salary, dept_x, first_name_y, last_name_y, dept_y]\n",
       "Index: []"
      ]
     },
     "execution_count": 101,
     "metadata": {},
     "output_type": "execute_result"
    }
   ],
   "source": [
    "emp_filtered = employees[['first_name','last_name', 'salary', 'dept']].dropna()\n",
    "emp2 = emp_filtered\n",
    "merged = emp_filtered.merge(emp2, on='salary')\n",
    "merged = merged[merged['dept_x'] != merged['dept_y']]\n",
    "merged"
   ]
  },
  {
   "cell_type": "code",
   "execution_count": 102,
   "id": "c2ba18bc-7df9-4150-983d-a4612780e5ad",
   "metadata": {},
   "outputs": [
    {
     "data": {
      "text/html": [
       "<div>\n",
       "<style scoped>\n",
       "    .dataframe tbody tr th:only-of-type {\n",
       "        vertical-align: middle;\n",
       "    }\n",
       "\n",
       "    .dataframe tbody tr th {\n",
       "        vertical-align: top;\n",
       "    }\n",
       "\n",
       "    .dataframe thead th {\n",
       "        text-align: right;\n",
       "    }\n",
       "</style>\n",
       "<table border=\"1\" class=\"dataframe\">\n",
       "  <thead>\n",
       "    <tr style=\"text-align: right;\">\n",
       "      <th></th>\n",
       "      <th>first_name_x</th>\n",
       "      <th>last_name_x</th>\n",
       "      <th>salary</th>\n",
       "      <th>dept_x</th>\n",
       "      <th>first_name_y</th>\n",
       "      <th>last_name_y</th>\n",
       "      <th>dept_y</th>\n",
       "    </tr>\n",
       "  </thead>\n",
       "  <tbody>\n",
       "  </tbody>\n",
       "</table>\n",
       "</div>"
      ],
      "text/plain": [
       "Empty DataFrame\n",
       "Columns: [first_name_x, last_name_x, salary, dept_x, first_name_y, last_name_y, dept_y]\n",
       "Index: []"
      ]
     },
     "execution_count": 102,
     "metadata": {},
     "output_type": "execute_result"
    }
   ],
   "source": [
    "emp_filtered = employees[['first_name','last_name', 'salary', 'dept']].dropna()\n",
    "emp2 = emp_filtered\n",
    "merged = emp_filtered.merge(emp2, on='salary')\n",
    "merged = merged[merged['dept_x'] != merged['dept_y']]\n",
    "merged"
   ]
  },
  {
   "cell_type": "code",
   "execution_count": 103,
   "id": "79f5ba1c-f603-4d07-aae0-5ff5ae59f681",
   "metadata": {},
   "outputs": [
    {
     "ename": "SyntaxError",
     "evalue": "invalid syntax (2481188206.py, line 1)",
     "output_type": "error",
     "traceback": [
      "  \u001b[36mCell\u001b[39m\u001b[36m \u001b[39m\u001b[32mIn[103]\u001b[39m\u001b[32m, line 1\u001b[39m\n\u001b[31m    \u001b[39m\u001b[31mSELECT dept, COUNT(*) as employee_count\u001b[39m\n           ^\n\u001b[31mSyntaxError\u001b[39m\u001b[31m:\u001b[39m invalid syntax\n"
     ]
    }
   ],
   "source": [
    "SELECT dept, COUNT(*) as employee_count\n",
    "FROM employees\n",
    "WHERE dept IS NOT NULL\n",
    "GROUP BY dept\n",
    "ORDER BY employee_count DESC\n",
    "LIMIT 1;"
   ]
  },
  {
   "cell_type": "code",
   "execution_count": 119,
   "id": "9f142189-bdee-4669-afe4-afacebcfaca1",
   "metadata": {},
   "outputs": [
    {
     "data": {
      "text/plain": [
       "dept\n",
       "Tech    3\n",
       "Name: id, dtype: int64"
      ]
     },
     "execution_count": 119,
     "metadata": {},
     "output_type": "execute_result"
    }
   ],
   "source": [
    "emp_depts = employees.groupby('dept')['id'].agg('count')\n",
    "emp_depts = emp_depts.sort_values(ascending=False)\n",
    "emp_depts.head(1)"
   ]
  },
  {
   "cell_type": "code",
   "execution_count": 120,
   "id": "610ca6c1-cd81-41bf-857f-9a718a1b36d7",
   "metadata": {},
   "outputs": [
    {
     "ename": "SyntaxError",
     "evalue": "invalid syntax (4060245811.py, line 1)",
     "output_type": "error",
     "traceback": [
      "  \u001b[36mCell\u001b[39m\u001b[36m \u001b[39m\u001b[32mIn[120]\u001b[39m\u001b[32m, line 1\u001b[39m\n\u001b[31m    \u001b[39m\u001b[31mSELECT e.first_name, e.last_name, e.dept, e.hire_date\u001b[39m\n           ^\n\u001b[31mSyntaxError\u001b[39m\u001b[31m:\u001b[39m invalid syntax\n"
     ]
    }
   ],
   "source": [
    "SELECT e.first_name, e.last_name, e.dept, e.hire_date\n",
    "FROM employees e\n",
    "JOIN (\n",
    "    SELECT dept, MIN(hire_date) as earliest_date\n",
    "    FROM employees\n",
    "    WHERE dept IS NOT NULL\n",
    "    GROUP BY dept\n",
    ") earliest ON e.dept = earliest.dept AND e.hire_date = earliest.earliest_date;"
   ]
  },
  {
   "cell_type": "code",
   "execution_count": 149,
   "id": "0fbdd3e2-305e-4e81-83a4-b615c20399d6",
   "metadata": {},
   "outputs": [
    {
     "data": {
      "text/html": [
       "<div>\n",
       "<style scoped>\n",
       "    .dataframe tbody tr th:only-of-type {\n",
       "        vertical-align: middle;\n",
       "    }\n",
       "\n",
       "    .dataframe tbody tr th {\n",
       "        vertical-align: top;\n",
       "    }\n",
       "\n",
       "    .dataframe thead th {\n",
       "        text-align: right;\n",
       "    }\n",
       "</style>\n",
       "<table border=\"1\" class=\"dataframe\">\n",
       "  <thead>\n",
       "    <tr style=\"text-align: right;\">\n",
       "      <th></th>\n",
       "      <th>first_name</th>\n",
       "      <th>last_name</th>\n",
       "      <th>dept</th>\n",
       "      <th>hire_date</th>\n",
       "    </tr>\n",
       "  </thead>\n",
       "  <tbody>\n",
       "    <tr>\n",
       "      <th>0</th>\n",
       "      <td>Ana</td>\n",
       "      <td>Gonzalez</td>\n",
       "      <td>Sales</td>\n",
       "      <td>2015-01-10</td>\n",
       "    </tr>\n",
       "    <tr>\n",
       "      <th>1</th>\n",
       "      <td>Ben</td>\n",
       "      <td>Nguyen</td>\n",
       "      <td>Marketing</td>\n",
       "      <td>2018-06-22</td>\n",
       "    </tr>\n",
       "    <tr>\n",
       "      <th>2</th>\n",
       "      <td>Dave</td>\n",
       "      <td>Okafor</td>\n",
       "      <td>Tech</td>\n",
       "      <td>2017-11-05</td>\n",
       "    </tr>\n",
       "    <tr>\n",
       "      <th>3</th>\n",
       "      <td>Ella</td>\n",
       "      <td>Schmidt</td>\n",
       "      <td>HR</td>\n",
       "      <td>2019-09-01</td>\n",
       "    </tr>\n",
       "    <tr>\n",
       "      <th>4</th>\n",
       "      <td>Henry</td>\n",
       "      <td>Johnson</td>\n",
       "      <td>Finance</td>\n",
       "      <td>2016-07-03</td>\n",
       "    </tr>\n",
       "  </tbody>\n",
       "</table>\n",
       "</div>"
      ],
      "text/plain": [
       "  first_name last_name       dept   hire_date\n",
       "0        Ana  Gonzalez      Sales  2015-01-10\n",
       "1        Ben    Nguyen  Marketing  2018-06-22\n",
       "2       Dave    Okafor       Tech  2017-11-05\n",
       "3       Ella   Schmidt         HR  2019-09-01\n",
       "4      Henry   Johnson    Finance  2016-07-03"
      ]
     },
     "execution_count": 149,
     "metadata": {},
     "output_type": "execute_result"
    }
   ],
   "source": [
    "emp_gr = employees[['first_name', 'last_name', 'dept', 'hire_date']]\n",
    "emp2 = emp_gr\n",
    "emp_gr = emp_gr[emp_gr['dept'].notna()]\n",
    "emp_gr = emp_gr.groupby('dept')['hire_date'].agg('min').reset_index()\n",
    "emp2 = emp2.merge(emp_gr, on=['dept','hire_date'])\n",
    "emp2"
   ]
  },
  {
   "cell_type": "code",
   "execution_count": 150,
   "id": "039366e6-9420-41fd-9a58-548553714922",
   "metadata": {},
   "outputs": [],
   "source": [
    "import pandas as pd\n",
    "import numpy as np\n",
    "\n",
    "# Recreate the employees data\n",
    "employees_data = {\n",
    "    'id': [1, 2, 3, 4, 5, 6, 7, 8, 9, 10],\n",
    "    'first_name': ['Ana', 'Ben', 'Cara', 'Dave', 'Ella', 'Frank', 'Grace', 'Henry', 'Iris', 'Jack'],\n",
    "    'last_name': ['Gonzalez', 'Nguyen', 'Ivanova', 'Okafor', 'Schmidt', 'Chen', 'Williams', 'Johnson', 'Patel', 'Brown'],\n",
    "    'dept': ['Sales', 'Marketing', 'Tech', 'Tech', 'HR', None, None, 'Finance', 'Tech', 'Sales'],\n",
    "    'salary': [68000, 72000, 98000, 105000, 60000, 55000, 62000, 75000, 88000, None],\n",
    "    'manager_id': [None, 1, 4, 4, 1, 1, 1, 10, 4, None],\n",
    "    'hire_date': ['2015-01-10', '2018-06-22', '2022-03-15', '2017-11-05', '2019-09-01', \n",
    "                  '2020-12-12', '2023-04-18', '2016-07-03', '2023-01-09', '2021-05-20']\n",
    "}\n",
    "\n",
    "employees = pd.DataFrame(employees_data)\n",
    "\n",
    "departments = pd.DataFrame({\n",
    "    'dname': ['Tech', 'Sales', 'HR', 'Marketing', 'Legal', 'R&D'],\n",
    "    'loc': ['Building A', 'Building B', 'Building C', 'Building B', 'Building D', 'Building A'],\n",
    "    'budget': [500000, 300000, 150000, 250000, 200000, 450000]\n",
    "})"
   ]
  },
  {
   "cell_type": "code",
   "execution_count": 151,
   "id": "2bd2da1b-a4e3-44fa-86a2-6d89c86c0d4e",
   "metadata": {},
   "outputs": [
    {
     "ename": "SyntaxError",
     "evalue": "invalid syntax (1886858045.py, line 1)",
     "output_type": "error",
     "traceback": [
      "  \u001b[36mCell\u001b[39m\u001b[36m \u001b[39m\u001b[32mIn[151]\u001b[39m\u001b[32m, line 1\u001b[39m\n\u001b[31m    \u001b[39m\u001b[31mSELECT first_name, last_name, dept, hire_date,\u001b[39m\n           ^\n\u001b[31mSyntaxError\u001b[39m\u001b[31m:\u001b[39m invalid syntax\n"
     ]
    }
   ],
   "source": [
    "SELECT first_name, last_name, dept, hire_date,\n",
    "       EXTRACT(YEAR FROM AGE('2025-07-15', hire_date)) as years_employed\n",
    "FROM employees\n",
    "WHERE EXTRACT(YEAR FROM AGE('2025-07-15', hire_date)) >= 5\n",
    "ORDER BY hire_date;"
   ]
  },
  {
   "cell_type": "code",
   "execution_count": 194,
   "id": "8296ecf8-ffee-4a9f-9f25-bb3d70b0ce37",
   "metadata": {},
   "outputs": [
    {
     "data": {
      "text/html": [
       "<div>\n",
       "<style scoped>\n",
       "    .dataframe tbody tr th:only-of-type {\n",
       "        vertical-align: middle;\n",
       "    }\n",
       "\n",
       "    .dataframe tbody tr th {\n",
       "        vertical-align: top;\n",
       "    }\n",
       "\n",
       "    .dataframe thead th {\n",
       "        text-align: right;\n",
       "    }\n",
       "</style>\n",
       "<table border=\"1\" class=\"dataframe\">\n",
       "  <thead>\n",
       "    <tr style=\"text-align: right;\">\n",
       "      <th></th>\n",
       "      <th>first_name</th>\n",
       "      <th>last_name</th>\n",
       "      <th>hire_date</th>\n",
       "      <th>years_hired</th>\n",
       "    </tr>\n",
       "  </thead>\n",
       "  <tbody>\n",
       "    <tr>\n",
       "      <th>0</th>\n",
       "      <td>Ana</td>\n",
       "      <td>Gonzalez</td>\n",
       "      <td>2015-01-10</td>\n",
       "      <td>11.0</td>\n",
       "    </tr>\n",
       "    <tr>\n",
       "      <th>1</th>\n",
       "      <td>Ben</td>\n",
       "      <td>Nguyen</td>\n",
       "      <td>2018-06-22</td>\n",
       "      <td>7.0</td>\n",
       "    </tr>\n",
       "    <tr>\n",
       "      <th>3</th>\n",
       "      <td>Dave</td>\n",
       "      <td>Okafor</td>\n",
       "      <td>2017-11-05</td>\n",
       "      <td>8.0</td>\n",
       "    </tr>\n",
       "    <tr>\n",
       "      <th>4</th>\n",
       "      <td>Ella</td>\n",
       "      <td>Schmidt</td>\n",
       "      <td>2019-09-01</td>\n",
       "      <td>6.0</td>\n",
       "    </tr>\n",
       "    <tr>\n",
       "      <th>5</th>\n",
       "      <td>Frank</td>\n",
       "      <td>Chen</td>\n",
       "      <td>2020-12-12</td>\n",
       "      <td>5.0</td>\n",
       "    </tr>\n",
       "    <tr>\n",
       "      <th>7</th>\n",
       "      <td>Henry</td>\n",
       "      <td>Johnson</td>\n",
       "      <td>2016-07-03</td>\n",
       "      <td>9.0</td>\n",
       "    </tr>\n",
       "  </tbody>\n",
       "</table>\n",
       "</div>"
      ],
      "text/plain": [
       "  first_name last_name   hire_date  years_hired\n",
       "0        Ana  Gonzalez  2015-01-10         11.0\n",
       "1        Ben    Nguyen  2018-06-22          7.0\n",
       "3       Dave    Okafor  2017-11-05          8.0\n",
       "4       Ella   Schmidt  2019-09-01          6.0\n",
       "5      Frank      Chen  2020-12-12          5.0\n",
       "7      Henry   Johnson  2016-07-03          9.0"
      ]
     },
     "execution_count": 194,
     "metadata": {},
     "output_type": "execute_result"
    }
   ],
   "source": [
    "emp = employees[['first_name', 'last_name', 'hire_date']].copy()\n",
    "today = pd.Timestamp('2025-07-15')\n",
    "emp['years_hired'] = round((today - pd.to_datetime(emp['hire_date'])).dt.days / 365)\n",
    "filtered = emp[emp['years_hired'] >= 5]\n",
    "filtered"
   ]
  },
  {
   "cell_type": "code",
   "execution_count": 195,
   "id": "4ecd69ca-5e94-4b17-ad89-50398b621e39",
   "metadata": {},
   "outputs": [
    {
     "ename": "SyntaxError",
     "evalue": "invalid syntax (3554843771.py, line 1)",
     "output_type": "error",
     "traceback": [
      "  \u001b[36mCell\u001b[39m\u001b[36m \u001b[39m\u001b[32mIn[195]\u001b[39m\u001b[32m, line 1\u001b[39m\n\u001b[31m    \u001b[39m\u001b[31mSELECT d.dname,\u001b[39m\n           ^\n\u001b[31mSyntaxError\u001b[39m\u001b[31m:\u001b[39m invalid syntax\n"
     ]
    }
   ],
   "source": [
    "SELECT d.dname, \n",
    "       COALESCE(AVG(e.salary), 0) as avg_salary,\n",
    "       COUNT(e.id) as employee_count\n",
    "FROM departments d\n",
    "LEFT JOIN employees e ON d.dname = e.dept AND e.salary IS NOT NULL\n",
    "GROUP BY d.dname\n",
    "ORDER BY avg_salary DESC;"
   ]
  },
  {
   "cell_type": "code",
   "execution_count": 241,
   "id": "318de4df-db90-47eb-95b5-97c8a7c254fd",
   "metadata": {},
   "outputs": [
    {
     "data": {
      "text/html": [
       "<div>\n",
       "<style scoped>\n",
       "    .dataframe tbody tr th:only-of-type {\n",
       "        vertical-align: middle;\n",
       "    }\n",
       "\n",
       "    .dataframe tbody tr th {\n",
       "        vertical-align: top;\n",
       "    }\n",
       "\n",
       "    .dataframe thead th {\n",
       "        text-align: right;\n",
       "    }\n",
       "</style>\n",
       "<table border=\"1\" class=\"dataframe\">\n",
       "  <thead>\n",
       "    <tr style=\"text-align: right;\">\n",
       "      <th></th>\n",
       "      <th>dname</th>\n",
       "      <th>loc</th>\n",
       "      <th>budget</th>\n",
       "      <th>salary</th>\n",
       "      <th>id</th>\n",
       "    </tr>\n",
       "  </thead>\n",
       "  <tbody>\n",
       "    <tr>\n",
       "      <th>0</th>\n",
       "      <td>Tech</td>\n",
       "      <td>Building A</td>\n",
       "      <td>500000</td>\n",
       "      <td>97000.0</td>\n",
       "      <td>3.0</td>\n",
       "    </tr>\n",
       "    <tr>\n",
       "      <th>3</th>\n",
       "      <td>Marketing</td>\n",
       "      <td>Building B</td>\n",
       "      <td>250000</td>\n",
       "      <td>72000.0</td>\n",
       "      <td>1.0</td>\n",
       "    </tr>\n",
       "    <tr>\n",
       "      <th>1</th>\n",
       "      <td>Sales</td>\n",
       "      <td>Building B</td>\n",
       "      <td>300000</td>\n",
       "      <td>68000.0</td>\n",
       "      <td>2.0</td>\n",
       "    </tr>\n",
       "    <tr>\n",
       "      <th>2</th>\n",
       "      <td>HR</td>\n",
       "      <td>Building C</td>\n",
       "      <td>150000</td>\n",
       "      <td>60000.0</td>\n",
       "      <td>1.0</td>\n",
       "    </tr>\n",
       "    <tr>\n",
       "      <th>4</th>\n",
       "      <td>Legal</td>\n",
       "      <td>Building D</td>\n",
       "      <td>200000</td>\n",
       "      <td>0.0</td>\n",
       "      <td>0.0</td>\n",
       "    </tr>\n",
       "    <tr>\n",
       "      <th>5</th>\n",
       "      <td>R&amp;D</td>\n",
       "      <td>Building A</td>\n",
       "      <td>450000</td>\n",
       "      <td>0.0</td>\n",
       "      <td>0.0</td>\n",
       "    </tr>\n",
       "  </tbody>\n",
       "</table>\n",
       "</div>"
      ],
      "text/plain": [
       "       dname         loc  budget   salary   id\n",
       "0       Tech  Building A  500000  97000.0  3.0\n",
       "3  Marketing  Building B  250000  72000.0  1.0\n",
       "1      Sales  Building B  300000  68000.0  2.0\n",
       "2         HR  Building C  150000  60000.0  1.0\n",
       "4      Legal  Building D  200000      0.0  0.0\n",
       "5        R&D  Building A  450000      0.0  0.0"
      ]
     },
     "execution_count": 241,
     "metadata": {},
     "output_type": "execute_result"
    }
   ],
   "source": [
    "depts = departments[departments['dname'].notna()]\n",
    "emps = employees[['dept','salary', 'id']].groupby('dept').agg({'salary': 'mean','id' : 'count'})\n",
    "depts = depts.merge(emps, left_on='dname', right_on='dept', how='left').fillna(0)\n",
    "depts.sort_values(by='salary', ascending=False)"
   ]
  },
  {
   "cell_type": "code",
   "execution_count": 242,
   "id": "ca37fe59-c402-4efc-ba69-1975bcf76de0",
   "metadata": {},
   "outputs": [
    {
     "ename": "SyntaxError",
     "evalue": "invalid syntax (4256003042.py, line 1)",
     "output_type": "error",
     "traceback": [
      "  \u001b[36mCell\u001b[39m\u001b[36m \u001b[39m\u001b[32mIn[242]\u001b[39m\u001b[32m, line 1\u001b[39m\n\u001b[31m    \u001b[39m\u001b[31mSELECT e.first_name, e.last_name, e.salary, e.dept\u001b[39m\n           ^\n\u001b[31mSyntaxError\u001b[39m\u001b[31m:\u001b[39m invalid syntax\n"
     ]
    }
   ],
   "source": [
    "SELECT e.first_name, e.last_name, e.salary, e.dept\n",
    "FROM employees e\n",
    "JOIN (\n",
    "    SELECT dept, \n",
    "           PERCENTILE_CONT(0.5) WITHIN GROUP (ORDER BY salary) as median_salary\n",
    "    FROM employees\n",
    "    WHERE salary IS NOT NULL\n",
    "    GROUP BY dept\n",
    ") medians ON e.dept = medians.dept\n",
    "WHERE e.salary > medians.median_salary;"
   ]
  },
  {
   "cell_type": "code",
   "execution_count": 324,
   "id": "1f32bbde-57af-44f5-bb9a-2ab05390b0b8",
   "metadata": {},
   "outputs": [
    {
     "data": {
      "text/html": [
       "<div>\n",
       "<style scoped>\n",
       "    .dataframe tbody tr th:only-of-type {\n",
       "        vertical-align: middle;\n",
       "    }\n",
       "\n",
       "    .dataframe tbody tr th {\n",
       "        vertical-align: top;\n",
       "    }\n",
       "\n",
       "    .dataframe thead th {\n",
       "        text-align: right;\n",
       "    }\n",
       "</style>\n",
       "<table border=\"1\" class=\"dataframe\">\n",
       "  <thead>\n",
       "    <tr style=\"text-align: right;\">\n",
       "      <th></th>\n",
       "      <th>first_name</th>\n",
       "      <th>last_name</th>\n",
       "      <th>dept</th>\n",
       "      <th>salary_x</th>\n",
       "      <th>salary_y</th>\n",
       "    </tr>\n",
       "  </thead>\n",
       "  <tbody>\n",
       "    <tr>\n",
       "      <th>3</th>\n",
       "      <td>Dave</td>\n",
       "      <td>Okafor</td>\n",
       "      <td>Tech</td>\n",
       "      <td>105000.0</td>\n",
       "      <td>98000.0</td>\n",
       "    </tr>\n",
       "  </tbody>\n",
       "</table>\n",
       "</div>"
      ],
      "text/plain": [
       "  first_name last_name  dept  salary_x  salary_y\n",
       "3       Dave    Okafor  Tech  105000.0   98000.0"
      ]
     },
     "execution_count": 324,
     "metadata": {},
     "output_type": "execute_result"
    }
   ],
   "source": [
    "emp = employees[['first_name', 'last_name', 'dept', 'salary']].copy()\n",
    "emp = emp[emp['salary'].notna()]\n",
    "emppie = emp.groupby('dept')['salary'].agg('median')\n",
    "df = emppie.to_frame().reset_index()\n",
    "emp = emp.merge(df, on='dept')\n",
    "final = emp[emp['salary_x'] > emp['salary_y']]\n",
    "final"
   ]
  },
  {
   "cell_type": "code",
   "execution_count": 326,
   "id": "3db260a3-6d8a-4599-b2ee-8cd268398bfa",
   "metadata": {},
   "outputs": [
    {
     "data": {
      "text/html": [
       "<div>\n",
       "<style scoped>\n",
       "    .dataframe tbody tr th:only-of-type {\n",
       "        vertical-align: middle;\n",
       "    }\n",
       "\n",
       "    .dataframe tbody tr th {\n",
       "        vertical-align: top;\n",
       "    }\n",
       "\n",
       "    .dataframe thead th {\n",
       "        text-align: right;\n",
       "    }\n",
       "</style>\n",
       "<table border=\"1\" class=\"dataframe\">\n",
       "  <thead>\n",
       "    <tr style=\"text-align: right;\">\n",
       "      <th></th>\n",
       "      <th>first_name</th>\n",
       "      <th>last_name</th>\n",
       "      <th>dept</th>\n",
       "      <th>salary</th>\n",
       "      <th>salary_median</th>\n",
       "    </tr>\n",
       "  </thead>\n",
       "  <tbody>\n",
       "    <tr>\n",
       "      <th>3</th>\n",
       "      <td>Dave</td>\n",
       "      <td>Okafor</td>\n",
       "      <td>Tech</td>\n",
       "      <td>105000.0</td>\n",
       "      <td>98000.0</td>\n",
       "    </tr>\n",
       "  </tbody>\n",
       "</table>\n",
       "</div>"
      ],
      "text/plain": [
       "  first_name last_name  dept    salary  salary_median\n",
       "3       Dave    Okafor  Tech  105000.0        98000.0"
      ]
     },
     "execution_count": 326,
     "metadata": {},
     "output_type": "execute_result"
    }
   ],
   "source": [
    "emp = employees[['first_name', 'last_name', 'dept', 'salary']].copy()\n",
    "#skip np.where, just filter nulls directly.\n",
    "emp = emp[emp['salary'].notna()]\n",
    "\n",
    "# Calculate median per department\n",
    "dept_medians = emp.groupby('dept')['salary'].median()\n",
    "\n",
    "# Merge back with employee data\n",
    "result = emp.merge(dept_medians, left_on='dept', right_index=True, suffixes=('', '_median'))\n",
    "\n",
    "final = result[result['salary'] > result['salary_median']]\n",
    "final"
   ]
  },
  {
   "cell_type": "code",
   "execution_count": 327,
   "id": "f3d5c182-634c-44cc-b775-a65c0397db26",
   "metadata": {},
   "outputs": [
    {
     "ename": "SyntaxError",
     "evalue": "invalid syntax (2287929693.py, line 1)",
     "output_type": "error",
     "traceback": [
      "  \u001b[36mCell\u001b[39m\u001b[36m \u001b[39m\u001b[32mIn[327]\u001b[39m\u001b[32m, line 1\u001b[39m\n\u001b[31m    \u001b[39m\u001b[31mFind the top 2 highest-paid employees in each department.\u001b[39m\n         ^\n\u001b[31mSyntaxError\u001b[39m\u001b[31m:\u001b[39m invalid syntax\n"
     ]
    }
   ],
   "source": [
    "Find the top 2 highest-paid employees in each department.\n",
    "SELECT first_name, last_name, dept, salary\n",
    "FROM (\n",
    "    SELECT first_name, last_name, dept, salary,\n",
    "           ROW_NUMBER() OVER (PARTITION BY dept ORDER BY salary DESC) as rn\n",
    "    FROM employees\n",
    "    WHERE salary IS NOT NULL\n",
    ") ranked\n",
    "WHERE rn <= 2\n",
    "ORDER BY dept, salary DESC;"
   ]
  },
  {
   "cell_type": "code",
   "execution_count": 351,
   "id": "7cb53119-4d5c-4bf7-95d3-51e6618ca75b",
   "metadata": {},
   "outputs": [
    {
     "data": {
      "text/html": [
       "<div>\n",
       "<style scoped>\n",
       "    .dataframe tbody tr th:only-of-type {\n",
       "        vertical-align: middle;\n",
       "    }\n",
       "\n",
       "    .dataframe tbody tr th {\n",
       "        vertical-align: top;\n",
       "    }\n",
       "\n",
       "    .dataframe thead th {\n",
       "        text-align: right;\n",
       "    }\n",
       "</style>\n",
       "<table border=\"1\" class=\"dataframe\">\n",
       "  <thead>\n",
       "    <tr style=\"text-align: right;\">\n",
       "      <th></th>\n",
       "      <th>first_name</th>\n",
       "      <th>last_name</th>\n",
       "      <th>dept</th>\n",
       "      <th>salary</th>\n",
       "    </tr>\n",
       "  </thead>\n",
       "  <tbody>\n",
       "    <tr>\n",
       "      <th>7</th>\n",
       "      <td>Henry</td>\n",
       "      <td>Johnson</td>\n",
       "      <td>Finance</td>\n",
       "      <td>75000.0</td>\n",
       "    </tr>\n",
       "    <tr>\n",
       "      <th>4</th>\n",
       "      <td>Ella</td>\n",
       "      <td>Schmidt</td>\n",
       "      <td>HR</td>\n",
       "      <td>60000.0</td>\n",
       "    </tr>\n",
       "    <tr>\n",
       "      <th>1</th>\n",
       "      <td>Ben</td>\n",
       "      <td>Nguyen</td>\n",
       "      <td>Marketing</td>\n",
       "      <td>72000.0</td>\n",
       "    </tr>\n",
       "    <tr>\n",
       "      <th>0</th>\n",
       "      <td>Ana</td>\n",
       "      <td>Gonzalez</td>\n",
       "      <td>Sales</td>\n",
       "      <td>68000.0</td>\n",
       "    </tr>\n",
       "    <tr>\n",
       "      <th>8</th>\n",
       "      <td>Iris</td>\n",
       "      <td>Patel</td>\n",
       "      <td>Tech</td>\n",
       "      <td>88000.0</td>\n",
       "    </tr>\n",
       "    <tr>\n",
       "      <th>2</th>\n",
       "      <td>Cara</td>\n",
       "      <td>Ivanova</td>\n",
       "      <td>Tech</td>\n",
       "      <td>98000.0</td>\n",
       "    </tr>\n",
       "  </tbody>\n",
       "</table>\n",
       "</div>"
      ],
      "text/plain": [
       "  first_name last_name       dept   salary\n",
       "7      Henry   Johnson    Finance  75000.0\n",
       "4       Ella   Schmidt         HR  60000.0\n",
       "1        Ben    Nguyen  Marketing  72000.0\n",
       "0        Ana  Gonzalez      Sales  68000.0\n",
       "8       Iris     Patel       Tech  88000.0\n",
       "2       Cara   Ivanova       Tech  98000.0"
      ]
     },
     "execution_count": 351,
     "metadata": {},
     "output_type": "execute_result"
    }
   ],
   "source": [
    "emp = employees[['first_name', 'last_name', 'dept', 'salary']]\n",
    "emp = emp[emp['salary'].notna()]\n",
    "emp = emp.sort_values(['dept', 'salary']).groupby('dept')\n",
    "emp.head(2)"
   ]
  },
  {
   "cell_type": "code",
   "execution_count": 352,
   "id": "dda7094c-7bcc-411f-aefe-264cfbd3bed8",
   "metadata": {},
   "outputs": [
    {
     "ename": "SyntaxError",
     "evalue": "invalid syntax (3143280510.py, line 1)",
     "output_type": "error",
     "traceback": [
      "  \u001b[36mCell\u001b[39m\u001b[36m \u001b[39m\u001b[32mIn[352]\u001b[39m\u001b[32m, line 1\u001b[39m\n\u001b[31m    \u001b[39m\u001b[31mSELECT DISTINCT e1.first_name, e1.last_name, e1.dept, e1.manager_id\u001b[39m\n           ^\n\u001b[31mSyntaxError\u001b[39m\u001b[31m:\u001b[39m invalid syntax\n"
     ]
    }
   ],
   "source": [
    "SELECT DISTINCT e1.first_name, e1.last_name, e1.dept, e1.manager_id\n",
    "FROM employees e1\n",
    "JOIN employees e2 ON e1.manager_id = e2.manager_id \n",
    "                  AND e1.dept != e2.dept\n",
    "                  AND e1.id != e2.id\n",
    "WHERE e1.manager_id IS NOT NULL\n",
    "ORDER BY e1.manager_id, e1.dept;"
   ]
  },
  {
   "cell_type": "code",
   "execution_count": 379,
   "id": "4b76af08-35b6-4aa2-944d-f84abe23904b",
   "metadata": {},
   "outputs": [
    {
     "data": {
      "text/html": [
       "<div>\n",
       "<style scoped>\n",
       "    .dataframe tbody tr th:only-of-type {\n",
       "        vertical-align: middle;\n",
       "    }\n",
       "\n",
       "    .dataframe tbody tr th {\n",
       "        vertical-align: top;\n",
       "    }\n",
       "\n",
       "    .dataframe thead th {\n",
       "        text-align: right;\n",
       "    }\n",
       "</style>\n",
       "<table border=\"1\" class=\"dataframe\">\n",
       "  <thead>\n",
       "    <tr style=\"text-align: right;\">\n",
       "      <th></th>\n",
       "      <th>first_name_e1</th>\n",
       "      <th>last_name_e1</th>\n",
       "      <th>dept_e1</th>\n",
       "      <th>manager_id</th>\n",
       "      <th>id_e1</th>\n",
       "      <th>first_name_e2</th>\n",
       "      <th>last_name_e2</th>\n",
       "      <th>dept_e2</th>\n",
       "      <th>id_e2</th>\n",
       "    </tr>\n",
       "  </thead>\n",
       "  <tbody>\n",
       "    <tr>\n",
       "      <th>1</th>\n",
       "      <td>Ben</td>\n",
       "      <td>Nguyen</td>\n",
       "      <td>Marketing</td>\n",
       "      <td>1.0</td>\n",
       "      <td>2</td>\n",
       "      <td>Ella</td>\n",
       "      <td>Schmidt</td>\n",
       "      <td>HR</td>\n",
       "      <td>5</td>\n",
       "    </tr>\n",
       "    <tr>\n",
       "      <th>8</th>\n",
       "      <td>Ella</td>\n",
       "      <td>Schmidt</td>\n",
       "      <td>HR</td>\n",
       "      <td>1.0</td>\n",
       "      <td>5</td>\n",
       "      <td>Ben</td>\n",
       "      <td>Nguyen</td>\n",
       "      <td>Marketing</td>\n",
       "      <td>2</td>\n",
       "    </tr>\n",
       "  </tbody>\n",
       "</table>\n",
       "</div>"
      ],
      "text/plain": [
       "  first_name_e1 last_name_e1    dept_e1  manager_id  id_e1 first_name_e2  \\\n",
       "1           Ben       Nguyen  Marketing         1.0      2          Ella   \n",
       "8          Ella      Schmidt         HR         1.0      5           Ben   \n",
       "\n",
       "  last_name_e2    dept_e2  id_e2  \n",
       "1      Schmidt         HR      5  \n",
       "8       Nguyen  Marketing      2  "
      ]
     },
     "execution_count": 379,
     "metadata": {},
     "output_type": "execute_result"
    }
   ],
   "source": [
    "e1 = employees[['first_name', 'last_name', 'dept', 'manager_id', 'id']]\n",
    "e1 = e1[e1['manager_id'].notna() & e1['dept'].notna()]\n",
    "e2 = e1.copy()\n",
    "result = e1.merge(e2, on='manager_id', suffixes=['_e1', '_e2'])\n",
    "result = result[(result['dept_e1'] != result['dept_e2']) & (result['id_e1'] != result['id_e2'])]\n",
    "result\n"
   ]
  },
  {
   "cell_type": "code",
   "execution_count": null,
   "id": "827d582c-7cbe-4c05-af12-b86f8a468c0f",
   "metadata": {},
   "outputs": [],
   "source": []
  }
 ],
 "metadata": {
  "kernelspec": {
   "display_name": "Python 3 (ipykernel)",
   "language": "python",
   "name": "python3"
  },
  "language_info": {
   "codemirror_mode": {
    "name": "ipython",
    "version": 3
   },
   "file_extension": ".py",
   "mimetype": "text/x-python",
   "name": "python",
   "nbconvert_exporter": "python",
   "pygments_lexer": "ipython3",
   "version": "3.11.8"
  }
 },
 "nbformat": 4,
 "nbformat_minor": 5
}
