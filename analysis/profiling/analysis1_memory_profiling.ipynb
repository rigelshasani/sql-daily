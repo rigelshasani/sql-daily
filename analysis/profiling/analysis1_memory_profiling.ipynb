{
 "cells": [
  {
   "cell_type": "code",
   "execution_count": 25,
   "id": "f4f193d0-98ce-4e68-8313-f2eb926562f3",
   "metadata": {},
   "outputs": [],
   "source": [
    "import pandas as pd\n",
    "import numpy as np\n",
    "\n",
    "employees = pd.DataFrame({\n",
    "    'id': list(range(1, 41)),\n",
    "    'first_name': ['Ana', 'Bob', 'Cara', 'Dave', 'Eve', 'Frank', 'Grace', 'Hank', 'Iris', 'Jack',\n",
    "                   'Kevin', 'Lisa', 'Mike', 'Nina', 'Omar', 'Paula', 'Quinn', 'Rosa', 'Sam', 'Tina',\n",
    "                   'Uma', 'Victor', 'Wendy', 'Xavier', 'Yara', 'Zack', 'Amy', 'Brian', 'Chloe', 'Dan',\n",
    "                   'Ella', 'Fred', 'Gina', 'Hugo', 'Ivy', 'Jake', 'Kim', 'Leo', 'Mia', 'Noah'],\n",
    "    'last_name': ['Smith', 'Jones', 'Brown', 'Wilson', 'Davis', 'Miller', 'Moore', 'Taylor', 'Anderson', 'Thomas',\n",
    "                  'Martin', 'Garcia', 'Rodriguez', 'Lee', 'White', 'Harris', 'Clark', 'Lewis', 'Robinson', 'Walker',\n",
    "                  'Hall', 'Allen', 'Young', 'King', 'Wright', 'Lopez', 'Hill', 'Scott', 'Green', 'Adams',\n",
    "                  'Baker', 'Nelson', 'Carter', 'Mitchell', 'Perez', 'Roberts', 'Turner', 'Phillips', 'Campbell', 'Parker'],\n",
    "    'dept': ['Tech', 'Sales', 'Tech', 'Marketing', 'Tech', 'Sales', 'Marketing', 'Tech', 'Sales', None,\n",
    "             'Tech', 'Sales', 'Marketing', 'Tech', 'HR', 'Sales', 'Tech', 'Marketing', 'Sales', 'Tech',\n",
    "             'Marketing', 'Tech', 'Sales', 'HR', 'Tech', 'Sales', 'Marketing', 'Tech', 'Sales', 'Marketing',\n",
    "             'Tech', 'HR', 'Sales', 'Tech', 'Marketing', 'Sales', 'Tech', 'Marketing', 'HR', 'Tech'],\n",
    "    'salary': [95000, 80000, 92000, 75000, 98000, 82000, 77000, 91000, 79000, None,\n",
    "               88000, 76000, 73000, 105000, 65000, 84000, 96000, 78000, 81000, 93000,\n",
    "               74000, 102000, 77000, 68000, 89000, 85000, 71000, 94000, 83000, 72000,\n",
    "               99000, 67000, 86000, 107000, 76000, 78000, 90000, 79000, 70000, 87000],\n",
    "    'manager_id': [None, 1, 1, 2, 1, 2, 4, 3, 6, 7,\n",
    "                   3, 6, 4, 1, None, 2, 3, 4, 6, 1,\n",
    "                   4, 3, 2, 15, 14, 6, 13, 14, 6, 13,\n",
    "                   14, 15, 2, 14, 13, 6, 14, 13, 15, 14],\n",
    "    'hire_date': ['2018-01-15', '2019-03-22', '2018-06-30', '2020-01-10', '2017-09-01', \n",
    "                  '2019-11-15', '2020-08-20', '2018-04-12', '2021-02-28', '2022-05-16',\n",
    "                  '2019-04-01', '2020-11-30', '2021-06-15', '2017-11-20', '2019-07-08',\n",
    "                  '2020-03-25', '2018-09-10', '2021-01-18', '2019-12-05', '2018-02-28',\n",
    "                  '2020-09-14', '2017-12-01', '2020-06-22', '2019-08-30', '2018-07-25',\n",
    "                  '2021-03-10', '2020-12-07', '2018-05-20', '2021-04-12', '2020-10-05',\n",
    "                  '2017-10-15', '2019-09-18', '2021-05-25', '2018-03-08', '2020-07-13',\n",
    "                  '2021-08-02', '2018-08-17', '2020-04-27', '2019-10-22', '2018-11-30']\n",
    "})\n",
    "\n",
    "departments = pd.DataFrame({\n",
    "    'dname': ['Tech', 'Sales', 'Marketing', 'HR'],\n",
    "    'budget': [1400000, 950000, 750000, 280000]\n",
    "})"
   ]
  },
  {
   "cell_type": "code",
   "execution_count": 27,
   "id": "1b7ac3a1-76c4-4f73-aec5-2478a9feb8f6",
   "metadata": {},
   "outputs": [
    {
     "name": "stdout",
     "output_type": "stream",
     "text": [
      "<class 'pandas.core.frame.DataFrame'>\n",
      "RangeIndex: 40 entries, 0 to 39\n",
      "Data columns (total 7 columns):\n",
      " #   Column      Non-Null Count  Dtype  \n",
      "---  ------      --------------  -----  \n",
      " 0   id          40 non-null     int64  \n",
      " 1   first_name  40 non-null     object \n",
      " 2   last_name   40 non-null     object \n",
      " 3   dept        39 non-null     object \n",
      " 4   salary      39 non-null     float64\n",
      " 5   manager_id  38 non-null     float64\n",
      " 6   hire_date   40 non-null     object \n",
      "dtypes: float64(2), int64(1), object(4)\n",
      "memory usage: 10.9 KB\n"
     ]
    }
   ],
   "source": [
    "employees.info(memory_usage=\"deep\")\n"
   ]
  },
  {
   "cell_type": "code",
   "execution_count": 28,
   "id": "a91713a4-1728-4dda-a374-c28431bdd6b3",
   "metadata": {},
   "outputs": [
    {
     "data": {
      "text/plain": [
       "np.int64(11173)"
      ]
     },
     "execution_count": 28,
     "metadata": {},
     "output_type": "execute_result"
    }
   ],
   "source": [
    "employees.memory_usage(deep=True).sum()"
   ]
  },
  {
   "cell_type": "code",
   "execution_count": 8,
   "id": "dce645af-d2a6-4e29-85a2-77a8a45bd25e",
   "metadata": {},
   "outputs": [
    {
     "data": {
      "text/plain": [
       "first_name    40\n",
       "last_name     40\n",
       "dept           4\n",
       "dtype: int64"
      ]
     },
     "execution_count": 8,
     "metadata": {},
     "output_type": "execute_result"
    }
   ],
   "source": [
    "employees[['first_name','last_name','dept']].nunique()"
   ]
  },
  {
   "cell_type": "code",
   "execution_count": 29,
   "id": "15fbd4fe-1616-4dbd-976c-52aa60e6c537",
   "metadata": {},
   "outputs": [
    {
     "data": {
      "text/plain": [
       "Index          132\n",
       "id             320\n",
       "first_name    2441\n",
       "last_name     2509\n",
       "dept           460\n",
       "salary         320\n",
       "manager_id     320\n",
       "hire_date     2680\n",
       "dtype: int64"
      ]
     },
     "execution_count": 29,
     "metadata": {},
     "output_type": "execute_result"
    }
   ],
   "source": [
    "employees['dept'] = employees['dept'].astype('category')\n",
    "employees.memory_usage(deep=True)"
   ]
  },
  {
   "cell_type": "code",
   "execution_count": 35,
   "id": "e3684375-6a59-4363-902c-47b37e5b0039",
   "metadata": {},
   "outputs": [
    {
     "data": {
      "text/plain": [
       "Index          132\n",
       "id             160\n",
       "first_name    2441\n",
       "last_name     2509\n",
       "dept           460\n",
       "salary         160\n",
       "manager_id     200\n",
       "hire_date      320\n",
       "dtype: int64"
      ]
     },
     "execution_count": 35,
     "metadata": {},
     "output_type": "execute_result"
    }
   ],
   "source": [
    "employees['hire_date'] = pd.to_datetime(employees['hire_date'])\n",
    "employees.memory_usage(deep=True)"
   ]
  },
  {
   "cell_type": "code",
   "execution_count": 30,
   "id": "22e9aa01-aaf1-4b22-acc4-aebe71c08e3c",
   "metadata": {},
   "outputs": [
    {
     "data": {
      "text/html": [
       "<div>\n",
       "<style scoped>\n",
       "    .dataframe tbody tr th:only-of-type {\n",
       "        vertical-align: middle;\n",
       "    }\n",
       "\n",
       "    .dataframe tbody tr th {\n",
       "        vertical-align: top;\n",
       "    }\n",
       "\n",
       "    .dataframe thead th {\n",
       "        text-align: right;\n",
       "    }\n",
       "</style>\n",
       "<table border=\"1\" class=\"dataframe\">\n",
       "  <thead>\n",
       "    <tr style=\"text-align: right;\">\n",
       "      <th></th>\n",
       "      <th>first_name</th>\n",
       "      <th>last_name</th>\n",
       "    </tr>\n",
       "  </thead>\n",
       "  <tbody>\n",
       "    <tr>\n",
       "      <th>count</th>\n",
       "      <td>40.000000</td>\n",
       "      <td>40.000000</td>\n",
       "    </tr>\n",
       "    <tr>\n",
       "      <th>mean</th>\n",
       "      <td>4.025000</td>\n",
       "      <td>5.725000</td>\n",
       "    </tr>\n",
       "    <tr>\n",
       "      <th>std</th>\n",
       "      <td>0.831665</td>\n",
       "      <td>1.280775</td>\n",
       "    </tr>\n",
       "    <tr>\n",
       "      <th>min</th>\n",
       "      <td>3.000000</td>\n",
       "      <td>3.000000</td>\n",
       "    </tr>\n",
       "    <tr>\n",
       "      <th>25%</th>\n",
       "      <td>3.000000</td>\n",
       "      <td>5.000000</td>\n",
       "    </tr>\n",
       "    <tr>\n",
       "      <th>50%</th>\n",
       "      <td>4.000000</td>\n",
       "      <td>5.500000</td>\n",
       "    </tr>\n",
       "    <tr>\n",
       "      <th>75%</th>\n",
       "      <td>4.250000</td>\n",
       "      <td>6.000000</td>\n",
       "    </tr>\n",
       "    <tr>\n",
       "      <th>max</th>\n",
       "      <td>6.000000</td>\n",
       "      <td>9.000000</td>\n",
       "    </tr>\n",
       "  </tbody>\n",
       "</table>\n",
       "</div>"
      ],
      "text/plain": [
       "       first_name  last_name\n",
       "count   40.000000  40.000000\n",
       "mean     4.025000   5.725000\n",
       "std      0.831665   1.280775\n",
       "min      3.000000   3.000000\n",
       "25%      3.000000   5.000000\n",
       "50%      4.000000   5.500000\n",
       "75%      4.250000   6.000000\n",
       "max      6.000000   9.000000"
      ]
     },
     "execution_count": 30,
     "metadata": {},
     "output_type": "execute_result"
    }
   ],
   "source": [
    "employees[['first_name', 'last_name']].map(len).describe()"
   ]
  },
  {
   "cell_type": "code",
   "execution_count": 31,
   "id": "35f788c9-fc02-4eb3-b405-b36f859d0b5a",
   "metadata": {},
   "outputs": [
    {
     "data": {
      "text/plain": [
       "id            0\n",
       "salary        1\n",
       "manager_id    2\n",
       "dtype: int64"
      ]
     },
     "execution_count": 31,
     "metadata": {},
     "output_type": "execute_result"
    }
   ],
   "source": [
    "# 1) Ranges\n",
    "employees[['id','salary','manager_id']].agg(['min','max'])\n",
    "\n",
    "# 2) Missingness\n",
    "employees[['id','salary','manager_id']].isna().sum()"
   ]
  },
  {
   "cell_type": "code",
   "execution_count": 32,
   "id": "26adcf68-8c80-4aaf-8b54-9c776fe65d53",
   "metadata": {},
   "outputs": [],
   "source": [
    "employees['id'] = employees['id'].astype('int32')\n",
    "employees['salary'] = employees['salary'].astype('float32')\n",
    "employees['manager_id'] = employees['manager_id'].astype('Int32')"
   ]
  },
  {
   "cell_type": "code",
   "execution_count": 37,
   "id": "f5dd5a6a-3222-471b-8e2b-4df10a399992",
   "metadata": {},
   "outputs": [
    {
     "data": {
      "text/plain": [
       "Index          132\n",
       "id             160\n",
       "first_name    2441\n",
       "last_name     2509\n",
       "dept           460\n",
       "salary         160\n",
       "manager_id     200\n",
       "hire_date      320\n",
       "dtype: int64"
      ]
     },
     "execution_count": 37,
     "metadata": {},
     "output_type": "execute_result"
    }
   ],
   "source": [
    "employees.memory_usage(deep=True)"
   ]
  },
  {
   "cell_type": "code",
   "execution_count": 36,
   "id": "3c79546a-c58e-4645-8df8-dd1f8e856b01",
   "metadata": {},
   "outputs": [
    {
     "data": {
      "text/plain": [
       "np.int64(6382)"
      ]
     },
     "execution_count": 36,
     "metadata": {},
     "output_type": "execute_result"
    }
   ],
   "source": [
    "employees.memory_usage(deep=True).sum()"
   ]
  },
  {
   "cell_type": "code",
   "execution_count": null,
   "id": "624e742a-e48c-4b10-8796-6575a4bbb92c",
   "metadata": {},
   "outputs": [],
   "source": []
  }
 ],
 "metadata": {
  "kernelspec": {
   "display_name": "Python 3 (ipykernel)",
   "language": "python",
   "name": "python3"
  },
  "language_info": {
   "codemirror_mode": {
    "name": "ipython",
    "version": 3
   },
   "file_extension": ".py",
   "mimetype": "text/x-python",
   "name": "python",
   "nbconvert_exporter": "python",
   "pygments_lexer": "ipython3",
   "version": "3.11.8"
  }
 },
 "nbformat": 4,
 "nbformat_minor": 5
}
