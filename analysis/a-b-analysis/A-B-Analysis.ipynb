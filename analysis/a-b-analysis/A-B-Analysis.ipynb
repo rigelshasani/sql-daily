{
 "cells": [
  {
   "cell_type": "code",
   "execution_count": 49,
   "id": "5a75390a-754d-4bee-b446-a79ccfbf5ae3",
   "metadata": {},
   "outputs": [
    {
     "data": {
      "text/plain": [
       "group\n",
       "B    3000\n",
       "A    2000\n",
       "Name: count, dtype: int64"
      ]
     },
     "execution_count": 49,
     "metadata": {},
     "output_type": "execute_result"
    }
   ],
   "source": [
    "import pandas as pd\n",
    "import numpy as np\n",
    "\n",
    "# A/B test data with randomization problems\n",
    "ab_test = pd.DataFrame({\n",
    "    'user_id': range(1, 5001),\n",
    "    'group': ['A'] * 2000 + ['B'] * 3000,  # Unbalanced!\n",
    "    'age': np.random.normal(35, 12, 5000),\n",
    "    'gender': np.random.choice(['M', 'F'], 5000),\n",
    "    'country': np.random.choice(['US', 'UK', 'CA'], 5000, p=[0.7, 0.2, 0.1]),\n",
    "    'device': np.random.choice(['mobile', 'desktop'], 5000, p=[0.6, 0.4]),\n",
    "    'previous_purchases': np.random.poisson(2, 5000),\n",
    "    'purchased': np.random.choice([0, 1], 5000, p=[0.85, 0.15])\n",
    "})\n",
    "# Check if previous_purchases affects conversion\n",
    "ab_test.groupby('previous_purchases')['purchased'].mean()\n",
    "\n",
    "# Check if the group column is randomly split\n",
    "ab_test['group'].value_counts()\n",
    "\n",
    "# Check if the age demographic is similar\n",
    "ab_test.groupby('group')['age'].mean()\n",
    "ab_test.groupby('group')['age'].describe()\n",
    "\n",
    "#Check if the gender demographic is similar\n",
    "ab_test.groupby('group')['gender'].describe()\n",
    "\n",
    "# Check if the gender demographic is similar\n",
    "pd.crosstab(ab_test['group'], ab_test['gender'], normalize='index')\n",
    "\n",
    "# Check for country\n",
    "pd.crosstab(ab_test['group'], ab_test['country'], normalize='index')\n",
    "\n",
    "# Conversion analysis\n",
    "#pd.crosstab(ab_test['group'], (ab_test['purchased'] / ab_test['group'].count()), normalize='index')\n",
    "# Conversion analysis Foundational\n",
    "pd.crosstab(ab_test['group'], ab_test['purchased'], normalize='index')\n",
    "\n",
    "# Has the group imbalance created demographic differences?\n",
    "pd.crosstab(ab_test['group'], ab_test['previous_purchases'], normalize='index')\n",
    "\n",
    "ab_test['group'].value_counts()"
   ]
  },
  {
   "cell_type": "code",
   "execution_count": 46,
   "id": "22fb9472-77f3-4b8e-ae6b-3a09755206f4",
   "metadata": {},
   "outputs": [
    {
     "name": "stdout",
     "output_type": "stream",
     "text": [
      "Group A rate: 0.1475\n",
      "Group B rate: 0.1613\n",
      "Pooled rate: 0.1558\n",
      "Standard error: 0.0105\n",
      "Z-statistic: -1.321\n"
     ]
    }
   ],
   "source": [
    "import math\n",
    "\n",
    "# Your data\n",
    "n_a, success_a = 2000, 295\n",
    "n_b, success_b = 3000, 484\n",
    "\n",
    "# Step 1: Calculate proportions\n",
    "p_a = success_a / n_a\n",
    "p_b = success_b / n_b\n",
    "\n",
    "# Step 2: Calculate pooled proportion\n",
    "p_pooled = (success_a + success_b) / (n_a + n_b)\n",
    "\n",
    "# Step 3: Calculate standard error\n",
    "se = math.sqrt(p_pooled * (1 - p_pooled) * (1/n_a + 1/n_b))\n",
    "\n",
    "# Step 4: Calculate z-statistic\n",
    "z_stat = (p_a - p_b) / se\n",
    "\n",
    "print(f\"Group A rate: {p_a:.4f}\")\n",
    "print(f\"Group B rate: {p_b:.4f}\")\n",
    "print(f\"Pooled rate: {p_pooled:.4f}\")\n",
    "print(f\"Standard error: {se:.4f}\")\n",
    "print(f\"Z-statistic: {z_stat:.3f}\")"
   ]
  },
  {
   "cell_type": "code",
   "execution_count": null,
   "id": "b9ab987c-27ed-4e8f-98c4-f294424e9a1b",
   "metadata": {},
   "outputs": [],
   "source": []
  }
 ],
 "metadata": {
  "kernelspec": {
   "display_name": "Python 3 (ipykernel)",
   "language": "python",
   "name": "python3"
  },
  "language_info": {
   "codemirror_mode": {
    "name": "ipython",
    "version": 3
   },
   "file_extension": ".py",
   "mimetype": "text/x-python",
   "name": "python",
   "nbconvert_exporter": "python",
   "pygments_lexer": "ipython3",
   "version": "3.11.8"
  }
 },
 "nbformat": 4,
 "nbformat_minor": 5
}
