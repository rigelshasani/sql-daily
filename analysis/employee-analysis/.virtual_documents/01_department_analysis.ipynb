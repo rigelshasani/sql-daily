import pandas as pd


import pandas as pd
df = pd.read_csv('employee_data.csv', skiprows=1)
df


# See all column names
df.columns


df.sort_values('Absences', ascending=True).head(10)


df['PerformanceScore'].value_counts()


# Performance by department
df.groupby('Department')['PerformanceScore'].value_counts()


# Average salary by department
df.groupby('Department')['Salary'].mean()


# Or more detailed
df.groupby('Department')['Salary'].describe()


df.groupby('Department')['EngagementSurvey'].mean()


df.groupby('Department')['EmpSatisfaction'].mean()


# Production employees with performance issues
production_underperformers = df[(df['Department'] == 'Production') & 
                                (df['PerformanceScore'].isin(['PIP', 'Needs Improvement']))]


# What departments do you have?
df['Department'].unique()


# Alternative: strip spaces from department names
production_underperformers = df[(df['Department'].str.strip() == 'Production') & 
                                (df['PerformanceScore'].isin(['PIP', 'Needs Improvement']))]
production_underperformers


# Clean all department names
df['Department'] = df['Department'].str.strip()


production_underperformers[['Employee_Name', 'DateofHire', 'PerformanceScore']].sort_values('PerformanceScore')


# Check if they share managers (ManagerName)
production_underperformers[['Employee_Name', 'ManagerName', 'PerformanceScore']]


# How many underperformers does each manager have?
production_underperformers.groupby('ManagerName')['PerformanceScore'].value_counts()


# Total team sizes for each manager in Production
production_all = df[df['Department'].str.strip() == 'Production']
production_all.groupby('ManagerName').size()



